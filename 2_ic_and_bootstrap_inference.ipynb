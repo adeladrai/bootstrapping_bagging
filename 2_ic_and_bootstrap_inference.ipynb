{
 "cells": [
  {
   "cell_type": "markdown",
   "id": "d7c53b43",
   "metadata": {},
   "source": [
    "# Partie 2 : Les intervalles de confiance par la méthode de Bootstrap"
   ]
  },
  {
   "cell_type": "code",
   "execution_count": 1,
   "id": "f4fb981d",
   "metadata": {},
   "outputs": [],
   "source": [
    "%reset -f\n",
    "\n",
    "import pandas as pd\n",
    "import numpy as np\n",
    "import random\n",
    "import seaborn as sns\n",
    "from sklearn.utils import resample \n",
    "from sklearn.metrics import accuracy_score \n",
    "from matplotlib import pyplot as plt \n",
    "import scipy.stats\n",
    "from scipy.stats import *"
   ]
  },
  {
   "cell_type": "markdown",
   "id": "a3ad9680-45cb-4533-b849-d196f8344519",
   "metadata": {
    "tags": []
   },
   "source": [
    "## Application 1 : L'évaluation de la performance des intervalles de confiances avec les expériences de Monte-Carlo"
   ]
  },
  {
   "cell_type": "code",
   "execution_count": 2,
   "id": "8d4b433f-2a2f-419b-9d1c-a843b8717094",
   "metadata": {},
   "outputs": [],
   "source": [
    "def Bias_B(L,theta):\n",
    "    return np.mean(L)-theta\n",
    "\n",
    "def MSE_B(L,theta):\n",
    "    B=len(L)\n",
    "    res=0\n",
    "    for b in range(0,B):\n",
    "        res=(L[b]-theta)**2\n",
    "    res=res/B\n",
    "    \n",
    "    return res\n",
    "\n",
    "def Montecarlo_simu(m, n, B):\n",
    "    L=[]\n",
    "    for b in range(B):\n",
    "        X_etoile_b = np.random.exponential(scale=m, size=n)\n",
    "        #X_etoile_b = random.choices(X_etoile_b, k=n)\n",
    "        L.append(np.mean(X_etoile_b))\n",
    "    return L"
   ]
  },
  {
   "cell_type": "code",
   "execution_count": 3,
   "id": "db3e4509-dab6-4f99-93e7-b56f5eaa4dc7",
   "metadata": {},
   "outputs": [],
   "source": [
    "np.random.seed(0) #fixee nombre aleatoire\n",
    "\n",
    "#donnees de simulations\n",
    "n=10\n",
    "m=20\n",
    "B=5000\n",
    "\n",
    "#echantillon\n",
    "X = np.random.exponential(scale=m, size=n)\n",
    "mean=np.mean(X)\n",
    "std=n/(n-1)*np.std(X)\n",
    "\n",
    "\n",
    "X_sorted=np.sort(X)\n",
    "\n",
    "x_min=0\n",
    "x_max=120\n",
    "x = np.linspace(x_min, x_max, 1000)\n",
    "\n",
    "X_bar_gamma = scipy.stats.gamma.rvs(n,0,mean/n,B)\n",
    "X_bar_normal = scipy.stats.norm.rvs(mean,mean/np.sqrt(n),B)\n",
    "L=Montecarlo_simu(mean, n, B)\n",
    "\n",
    "Percentile_Bootstrap = bootstrap((X,), np.mean, confidence_level=0.95, n_resamples=B, random_state=0, method='basic').confidence_interval"
   ]
  },
  {
   "cell_type": "code",
   "execution_count": 4,
   "id": "2e810712-fe32-432f-bef8-3d4b55b2f086",
   "metadata": {
    "tags": []
   },
   "outputs": [
    {
     "data": {
      "text/html": [
       "<div>\n",
       "<style scoped>\n",
       "    .dataframe tbody tr th:only-of-type {\n",
       "        vertical-align: middle;\n",
       "    }\n",
       "\n",
       "    .dataframe tbody tr th {\n",
       "        vertical-align: top;\n",
       "    }\n",
       "\n",
       "    .dataframe thead th {\n",
       "        text-align: right;\n",
       "    }\n",
       "</style>\n",
       "<table border=\"1\" class=\"dataframe\">\n",
       "  <thead>\n",
       "    <tr style=\"text-align: right;\">\n",
       "      <th></th>\n",
       "      <th>Méthode</th>\n",
       "      <th>Limite inférieure</th>\n",
       "      <th>Limite supérieure</th>\n",
       "    </tr>\n",
       "  </thead>\n",
       "  <tbody>\n",
       "    <tr>\n",
       "      <th>0</th>\n",
       "      <td>Gamma estimée</td>\n",
       "      <td>11.727094</td>\n",
       "      <td>40.429564</td>\n",
       "    </tr>\n",
       "    <tr>\n",
       "      <th>1</th>\n",
       "      <td>Approximation TCL</td>\n",
       "      <td>9.085476</td>\n",
       "      <td>38.713514</td>\n",
       "    </tr>\n",
       "    <tr>\n",
       "      <th>2</th>\n",
       "      <td>Basic Bootstrap</td>\n",
       "      <td>11.212251</td>\n",
       "      <td>41.284351</td>\n",
       "    </tr>\n",
       "    <tr>\n",
       "      <th>3</th>\n",
       "      <td>Percentile Bootstrap</td>\n",
       "      <td>12.347821</td>\n",
       "      <td>33.130965</td>\n",
       "    </tr>\n",
       "  </tbody>\n",
       "</table>\n",
       "</div>"
      ],
      "text/plain": [
       "                Méthode Limite inférieure Limite supérieure\n",
       "0         Gamma estimée         11.727094         40.429564\n",
       "1     Approximation TCL          9.085476         38.713514\n",
       "2       Basic Bootstrap         11.212251         41.284351\n",
       "3  Percentile Bootstrap         12.347821         33.130965"
      ]
     },
     "execution_count": 4,
     "metadata": {},
     "output_type": "execute_result"
    }
   ],
   "source": [
    "table21=pd.DataFrame(columns=['Méthode','Limite inférieure','Limite supérieure'])\n",
    "\n",
    "table21.loc[0,'Méthode']='Gamma estimée'\n",
    "table21.loc[0,'Limite inférieure']=np.percentile(X_bar_gamma,2.5)\n",
    "table21.loc[0,'Limite supérieure']=np.percentile(X_bar_gamma,97.5)\n",
    "\n",
    "table21.loc[1,'Méthode']='Approximation TCL'\n",
    "table21.loc[1,'Limite inférieure']=np.percentile(X_bar_normal,2.5)\n",
    "table21.loc[1,'Limite supérieure']=np.percentile(X_bar_normal,97.5)\n",
    "\n",
    "table21.loc[2,'Méthode']='Basic Bootstrap'\n",
    "table21.loc[2,'Limite inférieure']=np.percentile(L,2.5)\n",
    "table21.loc[2,'Limite supérieure']=np.percentile(L,97.5)\n",
    "\n",
    "table21.loc[3,'Méthode']='Percentile Bootstrap'\n",
    "table21.loc[3,'Limite inférieure']=Percentile_Bootstrap[0]\n",
    "table21.loc[3,'Limite supérieure']=Percentile_Bootstrap[1]\n",
    "\n",
    "table21"
   ]
  },
  {
   "cell_type": "markdown",
   "id": "550f61df-4062-4140-b252-354e427f765e",
   "metadata": {},
   "source": [
    "## Application 2 : L'évaluation de la performance des intervalles de confiances à l'aide des modèles Bootstrap\n"
   ]
  },
  {
   "cell_type": "markdown",
   "id": "2e04877e",
   "metadata": {},
   "source": [
    "### Intervalles de confiance"
   ]
  },
  {
   "cell_type": "markdown",
   "id": "78e2abc9",
   "metadata": {},
   "source": [
    "### L'évalution des intervalles de confiance à l'aide de 1000 échantillons qui suivent une loi expo"
   ]
  },
  {
   "cell_type": "code",
   "execution_count": 16,
   "id": "93a4767c",
   "metadata": {},
   "outputs": [
    {
     "name": "stdout",
     "output_type": "stream",
     "text": [
      "percentile -> évaluation du niveau de confiance =  88.3\n",
      "BCa -> évaluation du niveau de confiance =  88.6\n",
      "basic -> évaluation du niveau de confiance =  87.8\n"
     ]
    }
   ],
   "source": [
    "m = 20 # le parametre de la loi exponentielle\n",
    "n = 50  #la taille du vecteur généré\n",
    "B = 1000  #le nombre de Bootstrap\n",
    "N = 1000\n",
    "c1 = 0\n",
    "c2 = 0\n",
    "c3 = 0\n",
    "\n",
    "for i in range(N):\n",
    "    data = (np.random.exponential(scale=m, size=n),)\n",
    "    CI1 = bootstrap(data, np.mean, confidence_level=0.9, n_resamples=B, random_state=0, method='percentile').confidence_interval\n",
    "    if CI1[0] < m < CI1[1]:\n",
    "        c1 += 1\n",
    "    CI2 = bootstrap(data, np.mean, confidence_level=0.9, n_resamples=B, random_state=0, method='BCa').confidence_interval\n",
    "    if CI2[0] < m < CI2[1]:\n",
    "        c2 += 1\n",
    "    CI3 = bootstrap(data, np.mean, confidence_level=0.9, n_resamples=B, random_state=0, method='basic').confidence_interval\n",
    "    if CI3[0] < m < CI3[1]:\n",
    "        c3 += 1\n",
    "print('percentile -> évaluation du niveau de confiance = ',abs(c1/N*100))\n",
    "print('BCa -> évaluation du niveau de confiance = ',abs(c2/N*100))\n",
    "print('basic -> évaluation du niveau de confiance = ',abs(c3/N*100))"
   ]
  },
  {
   "cell_type": "markdown",
   "id": "3b67a843",
   "metadata": {},
   "source": [
    "### Exemple pour  des échantillons dont la taille varie de 10 à 1000 avec un pas de 50"
   ]
  },
  {
   "cell_type": "code",
   "execution_count": 32,
   "id": "88196349",
   "metadata": {},
   "outputs": [],
   "source": [
    "l=[[],[],[]]\n",
    "n_i=10\n",
    "n_f=1150\n",
    "pas=50\n",
    "\n",
    "def ICs(n,l):\n",
    "    m = 20 # le parametre de la loi exponentielle\n",
    "    c1 = 0\n",
    "    c2 = 0\n",
    "    c3 = 0\n",
    "    B = 100\n",
    "    N = 1000\n",
    "    for i in range(N):\n",
    "        data = (np.random.exponential(scale=m, size=n),)\n",
    "        CI1 = bootstrap(data, np.mean, confidence_level=0.9, n_resamples=B, random_state=0,method='percentile').confidence_interval\n",
    "        if CI1[0] < m < CI1[1]:\n",
    "            c1 += 1\n",
    "        CI2 = bootstrap(data, np.mean, confidence_level=0.9, n_resamples=B, random_state=0, method='BCa').confidence_interval\n",
    "        if CI2[0] < m < CI2[1]:\n",
    "            c2 += 1\n",
    "        CI3 = bootstrap(data, np.mean, confidence_level=0.9, n_resamples=B, random_state=0, method='basic').confidence_interval\n",
    "        if CI3[0] < m < CI3[1]:\n",
    "            c3 += 1\n",
    "    l[0].append(c1/N)\n",
    "    l[1].append(c2/N)\n",
    "    l[2].append(c3/N)\n",
    "    return l\n",
    "\n",
    "for i in range(n_i,n_f,pas):\n",
    "    l=ICs(i,l)"
   ]
  },
  {
   "cell_type": "code",
   "execution_count": 33,
   "id": "6d5f32bb",
   "metadata": {},
   "outputs": [
    {
     "data": {
      "image/png": "[encoded data removed]",
      "text/plain": [
       "<Figure size 720x432 with 1 Axes>"
      ]
     },
     "metadata": {
      "needs_background": "light"
     },
     "output_type": "display_data"
    }
   ],
   "source": [
    "plt.figure(figsize=(10,6))\n",
    "plt.plot(range(n_i,n_f,pas), l[0],'r',label='Percentile')\n",
    "plt.plot(range(n_i,n_f,pas), l[1],'b',label='BCa')\n",
    "plt.plot(range(n_i,n_f,pas), l[2],'g',label='Basic')\n",
    "plt.legend()\n",
    "plt.ylim((0.7,1))\n",
    "plt.xlabel(\"Taille de l'échantillon\")\n",
    "plt.ylabel(\"Probabilite l'IC contient le paramètre\")\n",
    "plt.show()"
   ]
  },
  {
   "cell_type": "code",
   "execution_count": null,
   "id": "59652fa8-f32e-4a52-9f94-3f0c8c4f900a",
   "metadata": {},
   "outputs": [],
   "source": []
  }
 ],
 "metadata": {
  "kernelspec": {
   "display_name": "Python 3 (ipykernel)",
   "language": "python",
   "name": "python3"
  },
  "language_info": {
   "codemirror_mode": {
    "name": "ipython",
    "version": 3
   },
   "file_extension": ".py",
   "mimetype": "text/x-python",
   "name": "python",
   "nbconvert_exporter": "python",
   "pygments_lexer": "ipython3",
   "version": "3.9.5"
  }
 },
 "nbformat": 4,
 "nbformat_minor": 5
}
